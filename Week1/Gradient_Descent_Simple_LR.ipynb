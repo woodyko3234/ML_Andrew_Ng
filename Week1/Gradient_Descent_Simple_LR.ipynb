{
 "cells": [
  {
   "cell_type": "markdown",
   "metadata": {},
   "source": [
    "#ML - Standford Andrew Ng\n",
    "##Week 2 Project\n",
    "###1. Linear regression with one variable\n",
    "In this part of this exercise, you will implement linear regression with one variable to predict profits for a food truck. Suppose you are the CEO of a restaurant franchise and are considering different cities for opening a new outlet. The chain already has trucks in various cities and you have data for profits and populations from the cities.\n",
    "  You would like to use this data to help you select which city to expand to next. The file ex1data1.txt contains the dataset for our linear regression prob- lem. The first column is the population of a city and the second column is the profit of a food truck in that city. A negative value for profit indicates a loss. The ex1.m script has already been set up to load this data for you."
   ]
  },
  {
   "cell_type": "code",
   "execution_count": 36,
   "metadata": {
    "collapsed": true
   },
   "outputs": [],
   "source": [
    "## Load the data and set variables\n",
    "import numpy as np\n",
    "with open('ex1data1.txt', 'r') as data_file:\n",
    "    data_array = np.loadtxt(data_file, delimiter=',')"
   ]
  },
  {
   "cell_type": "code",
   "execution_count": 37,
   "metadata": {
    "collapsed": false,
    "scrolled": true
   },
   "outputs": [
    {
     "name": "stdout",
     "output_type": "stream",
     "text": [
      "[[  6.1101   17.592  ]\n",
      " [  5.5277    9.1302 ]\n",
      " [  8.5186   13.662  ]\n",
      " [  7.0032   11.854  ]\n",
      " [  5.8598    6.8233 ]\n",
      " [  8.3829   11.886  ]\n",
      " [  7.4764    4.3483 ]\n",
      " [  8.5781   12.     ]\n",
      " [  6.4862    6.5987 ]\n",
      " [  5.0546    3.8166 ]\n",
      " [  5.7107    3.2522 ]\n",
      " [ 14.164    15.505  ]\n",
      " [  5.734     3.1551 ]\n",
      " [  8.4084    7.2258 ]\n",
      " [  5.6407    0.71618]\n",
      " [  5.3794    3.5129 ]\n",
      " [  6.3654    5.3048 ]\n",
      " [  5.1301    0.56077]\n",
      " [  6.4296    3.6518 ]\n",
      " [  7.0708    5.3893 ]\n",
      " [  6.1891    3.1386 ]\n",
      " [ 20.27     21.767  ]\n",
      " [  5.4901    4.263  ]\n",
      " [  6.3261    5.1875 ]\n",
      " [  5.5649    3.0825 ]\n",
      " [ 18.945    22.638  ]\n",
      " [ 12.828    13.501  ]\n",
      " [ 10.957     7.0467 ]\n",
      " [ 13.176    14.692  ]\n",
      " [ 22.203    24.147  ]\n",
      " [  5.2524   -1.22   ]\n",
      " [  6.5894    5.9966 ]\n",
      " [  9.2482   12.134  ]\n",
      " [  5.8918    1.8495 ]\n",
      " [  8.2111    6.5426 ]\n",
      " [  7.9334    4.5623 ]\n",
      " [  8.0959    4.1164 ]\n",
      " [  5.6063    3.3928 ]\n",
      " [ 12.836    10.117  ]\n",
      " [  6.3534    5.4974 ]\n",
      " [  5.4069    0.55657]\n",
      " [  6.8825    3.9115 ]\n",
      " [ 11.708     5.3854 ]\n",
      " [  5.7737    2.4406 ]\n",
      " [  7.8247    6.7318 ]\n",
      " [  7.0931    1.0463 ]\n",
      " [  5.0702    5.1337 ]\n",
      " [  5.8014    1.844  ]\n",
      " [ 11.7       8.0043 ]\n",
      " [  5.5416    1.0179 ]\n",
      " [  7.5402    6.7504 ]\n",
      " [  5.3077    1.8396 ]\n",
      " [  7.4239    4.2885 ]\n",
      " [  7.6031    4.9981 ]\n",
      " [  6.3328    1.4233 ]\n",
      " [  6.3589   -1.4211 ]\n",
      " [  6.2742    2.4756 ]\n",
      " [  5.6397    4.6042 ]\n",
      " [  9.3102    3.9624 ]\n",
      " [  9.4536    5.4141 ]\n",
      " [  8.8254    5.1694 ]\n",
      " [  5.1793   -0.74279]\n",
      " [ 21.279    17.929  ]\n",
      " [ 14.908    12.054  ]\n",
      " [ 18.959    17.054  ]\n",
      " [  7.2182    4.8852 ]\n",
      " [  8.2951    5.7442 ]\n",
      " [ 10.236     7.7754 ]\n",
      " [  5.4994    1.0173 ]\n",
      " [ 20.341    20.992  ]\n",
      " [ 10.136     6.6799 ]\n",
      " [  7.3345    4.0259 ]\n",
      " [  6.0062    1.2784 ]\n",
      " [  7.2259    3.3411 ]\n",
      " [  5.0269   -2.6807 ]\n",
      " [  6.5479    0.29678]\n",
      " [  7.5386    3.8845 ]\n",
      " [  5.0365    5.7014 ]\n",
      " [ 10.274     6.7526 ]\n",
      " [  5.1077    2.0576 ]\n",
      " [  5.7292    0.47953]\n",
      " [  5.1884    0.20421]\n",
      " [  6.3557    0.67861]\n",
      " [  9.7687    7.5435 ]\n",
      " [  6.5159    5.3436 ]\n",
      " [  8.5172    4.2415 ]\n",
      " [  9.1802    6.7981 ]\n",
      " [  6.002     0.92695]\n",
      " [  5.5204    0.152  ]\n",
      " [  5.0594    2.8214 ]\n",
      " [  5.7077    1.8451 ]\n",
      " [  7.6366    4.2959 ]\n",
      " [  5.8707    7.2029 ]\n",
      " [  5.3054    1.9869 ]\n",
      " [  8.2934    0.14454]\n",
      " [ 13.394     9.0551 ]\n",
      " [  5.4369    0.61705]]\n"
     ]
    }
   ],
   "source": [
    "print (data_array)\n",
    "#Done, good job"
   ]
  },
  {
   "cell_type": "code",
   "execution_count": 38,
   "metadata": {
    "collapsed": false,
    "scrolled": true
   },
   "outputs": [],
   "source": [
    "#insert x-0 into each row\n",
    "x_0 = 1\n",
    "for n in range(0, len(data_array)):\n",
    "    data_array_expanded = np.insert(data_array, 0, x_0, axis = 1)"
   ]
  },
  {
   "cell_type": "code",
   "execution_count": 39,
   "metadata": {
    "collapsed": false,
    "scrolled": true
   },
   "outputs": [
    {
     "name": "stdout",
     "output_type": "stream",
     "text": [
      "[[  1.        6.1101   17.592  ]\n",
      " [  1.        5.5277    9.1302 ]\n",
      " [  1.        8.5186   13.662  ]\n",
      " [  1.        7.0032   11.854  ]\n",
      " [  1.        5.8598    6.8233 ]\n",
      " [  1.        8.3829   11.886  ]\n",
      " [  1.        7.4764    4.3483 ]\n",
      " [  1.        8.5781   12.     ]\n",
      " [  1.        6.4862    6.5987 ]\n",
      " [  1.        5.0546    3.8166 ]\n",
      " [  1.        5.7107    3.2522 ]\n",
      " [  1.       14.164    15.505  ]\n",
      " [  1.        5.734     3.1551 ]\n",
      " [  1.        8.4084    7.2258 ]\n",
      " [  1.        5.6407    0.71618]\n",
      " [  1.        5.3794    3.5129 ]\n",
      " [  1.        6.3654    5.3048 ]\n",
      " [  1.        5.1301    0.56077]\n",
      " [  1.        6.4296    3.6518 ]\n",
      " [  1.        7.0708    5.3893 ]\n",
      " [  1.        6.1891    3.1386 ]\n",
      " [  1.       20.27     21.767  ]\n",
      " [  1.        5.4901    4.263  ]\n",
      " [  1.        6.3261    5.1875 ]\n",
      " [  1.        5.5649    3.0825 ]\n",
      " [  1.       18.945    22.638  ]\n",
      " [  1.       12.828    13.501  ]\n",
      " [  1.       10.957     7.0467 ]\n",
      " [  1.       13.176    14.692  ]\n",
      " [  1.       22.203    24.147  ]\n",
      " [  1.        5.2524   -1.22   ]\n",
      " [  1.        6.5894    5.9966 ]\n",
      " [  1.        9.2482   12.134  ]\n",
      " [  1.        5.8918    1.8495 ]\n",
      " [  1.        8.2111    6.5426 ]\n",
      " [  1.        7.9334    4.5623 ]\n",
      " [  1.        8.0959    4.1164 ]\n",
      " [  1.        5.6063    3.3928 ]\n",
      " [  1.       12.836    10.117  ]\n",
      " [  1.        6.3534    5.4974 ]\n",
      " [  1.        5.4069    0.55657]\n",
      " [  1.        6.8825    3.9115 ]\n",
      " [  1.       11.708     5.3854 ]\n",
      " [  1.        5.7737    2.4406 ]\n",
      " [  1.        7.8247    6.7318 ]\n",
      " [  1.        7.0931    1.0463 ]\n",
      " [  1.        5.0702    5.1337 ]\n",
      " [  1.        5.8014    1.844  ]\n",
      " [  1.       11.7       8.0043 ]\n",
      " [  1.        5.5416    1.0179 ]\n",
      " [  1.        7.5402    6.7504 ]\n",
      " [  1.        5.3077    1.8396 ]\n",
      " [  1.        7.4239    4.2885 ]\n",
      " [  1.        7.6031    4.9981 ]\n",
      " [  1.        6.3328    1.4233 ]\n",
      " [  1.        6.3589   -1.4211 ]\n",
      " [  1.        6.2742    2.4756 ]\n",
      " [  1.        5.6397    4.6042 ]\n",
      " [  1.        9.3102    3.9624 ]\n",
      " [  1.        9.4536    5.4141 ]\n",
      " [  1.        8.8254    5.1694 ]\n",
      " [  1.        5.1793   -0.74279]\n",
      " [  1.       21.279    17.929  ]\n",
      " [  1.       14.908    12.054  ]\n",
      " [  1.       18.959    17.054  ]\n",
      " [  1.        7.2182    4.8852 ]\n",
      " [  1.        8.2951    5.7442 ]\n",
      " [  1.       10.236     7.7754 ]\n",
      " [  1.        5.4994    1.0173 ]\n",
      " [  1.       20.341    20.992  ]\n",
      " [  1.       10.136     6.6799 ]\n",
      " [  1.        7.3345    4.0259 ]\n",
      " [  1.        6.0062    1.2784 ]\n",
      " [  1.        7.2259    3.3411 ]\n",
      " [  1.        5.0269   -2.6807 ]\n",
      " [  1.        6.5479    0.29678]\n",
      " [  1.        7.5386    3.8845 ]\n",
      " [  1.        5.0365    5.7014 ]\n",
      " [  1.       10.274     6.7526 ]\n",
      " [  1.        5.1077    2.0576 ]\n",
      " [  1.        5.7292    0.47953]\n",
      " [  1.        5.1884    0.20421]\n",
      " [  1.        6.3557    0.67861]\n",
      " [  1.        9.7687    7.5435 ]\n",
      " [  1.        6.5159    5.3436 ]\n",
      " [  1.        8.5172    4.2415 ]\n",
      " [  1.        9.1802    6.7981 ]\n",
      " [  1.        6.002     0.92695]\n",
      " [  1.        5.5204    0.152  ]\n",
      " [  1.        5.0594    2.8214 ]\n",
      " [  1.        5.7077    1.8451 ]\n",
      " [  1.        7.6366    4.2959 ]\n",
      " [  1.        5.8707    7.2029 ]\n",
      " [  1.        5.3054    1.9869 ]\n",
      " [  1.        8.2934    0.14454]\n",
      " [  1.       13.394     9.0551 ]\n",
      " [  1.        5.4369    0.61705]]\n"
     ]
    }
   ],
   "source": [
    "print (data_array_expanded[:])\n",
    "#Done!\n",
    "#array-i[0] = x-i_0\n",
    "#array-i[1] = x-i_1"
   ]
  },
  {
   "cell_type": "code",
   "execution_count": 77,
   "metadata": {
    "collapsed": false
   },
   "outputs": [
    {
     "name": "stdout",
     "output_type": "stream",
     "text": [
      "[[ 0.]\n",
      " [ 0.]]\n"
     ]
    }
   ],
   "source": [
    "# Set theta to be zero as beginning\n",
    "# Note array != matrix \n",
    "theta_array = np.matrix(np.zeros((2,1)))\n",
    "print(theta_array)"
   ]
  },
  {
   "cell_type": "code",
   "execution_count": 76,
   "metadata": {
    "collapsed": false
   },
   "outputs": [
    {
     "name": "stdout",
     "output_type": "stream",
     "text": [
      "[[  1.       6.1101]\n",
      " [  1.       5.5277]\n",
      " [  1.       8.5186]\n",
      " [  1.       7.0032]\n",
      " [  1.       5.8598]\n",
      " [  1.       8.3829]\n",
      " [  1.       7.4764]\n",
      " [  1.       8.5781]\n",
      " [  1.       6.4862]\n",
      " [  1.       5.0546]\n",
      " [  1.       5.7107]\n",
      " [  1.      14.164 ]\n",
      " [  1.       5.734 ]\n",
      " [  1.       8.4084]\n",
      " [  1.       5.6407]\n",
      " [  1.       5.3794]\n",
      " [  1.       6.3654]\n",
      " [  1.       5.1301]\n",
      " [  1.       6.4296]\n",
      " [  1.       7.0708]\n",
      " [  1.       6.1891]\n",
      " [  1.      20.27  ]\n",
      " [  1.       5.4901]\n",
      " [  1.       6.3261]\n",
      " [  1.       5.5649]\n",
      " [  1.      18.945 ]\n",
      " [  1.      12.828 ]\n",
      " [  1.      10.957 ]\n",
      " [  1.      13.176 ]\n",
      " [  1.      22.203 ]\n",
      " [  1.       5.2524]\n",
      " [  1.       6.5894]\n",
      " [  1.       9.2482]\n",
      " [  1.       5.8918]\n",
      " [  1.       8.2111]\n",
      " [  1.       7.9334]\n",
      " [  1.       8.0959]\n",
      " [  1.       5.6063]\n",
      " [  1.      12.836 ]\n",
      " [  1.       6.3534]\n",
      " [  1.       5.4069]\n",
      " [  1.       6.8825]\n",
      " [  1.      11.708 ]\n",
      " [  1.       5.7737]\n",
      " [  1.       7.8247]\n",
      " [  1.       7.0931]\n",
      " [  1.       5.0702]\n",
      " [  1.       5.8014]\n",
      " [  1.      11.7   ]\n",
      " [  1.       5.5416]\n",
      " [  1.       7.5402]\n",
      " [  1.       5.3077]\n",
      " [  1.       7.4239]\n",
      " [  1.       7.6031]\n",
      " [  1.       6.3328]\n",
      " [  1.       6.3589]\n",
      " [  1.       6.2742]\n",
      " [  1.       5.6397]\n",
      " [  1.       9.3102]\n",
      " [  1.       9.4536]\n",
      " [  1.       8.8254]\n",
      " [  1.       5.1793]\n",
      " [  1.      21.279 ]\n",
      " [  1.      14.908 ]\n",
      " [  1.      18.959 ]\n",
      " [  1.       7.2182]\n",
      " [  1.       8.2951]\n",
      " [  1.      10.236 ]\n",
      " [  1.       5.4994]\n",
      " [  1.      20.341 ]\n",
      " [  1.      10.136 ]\n",
      " [  1.       7.3345]\n",
      " [  1.       6.0062]\n",
      " [  1.       7.2259]\n",
      " [  1.       5.0269]\n",
      " [  1.       6.5479]\n",
      " [  1.       7.5386]\n",
      " [  1.       5.0365]\n",
      " [  1.      10.274 ]\n",
      " [  1.       5.1077]\n",
      " [  1.       5.7292]\n",
      " [  1.       5.1884]\n",
      " [  1.       6.3557]\n",
      " [  1.       9.7687]\n",
      " [  1.       6.5159]\n",
      " [  1.       8.5172]\n",
      " [  1.       9.1802]\n",
      " [  1.       6.002 ]\n",
      " [  1.       5.5204]\n",
      " [  1.       5.0594]\n",
      " [  1.       5.7077]\n",
      " [  1.       7.6366]\n",
      " [  1.       5.8707]\n",
      " [  1.       5.3054]\n",
      " [  1.       8.2934]\n",
      " [  1.      13.394 ]\n",
      " [  1.       5.4369]] \n",
      " [[ 17.592  ]\n",
      " [  9.1302 ]\n",
      " [ 13.662  ]\n",
      " [ 11.854  ]\n",
      " [  6.8233 ]\n",
      " [ 11.886  ]\n",
      " [  4.3483 ]\n",
      " [ 12.     ]\n",
      " [  6.5987 ]\n",
      " [  3.8166 ]\n",
      " [  3.2522 ]\n",
      " [ 15.505  ]\n",
      " [  3.1551 ]\n",
      " [  7.2258 ]\n",
      " [  0.71618]\n",
      " [  3.5129 ]\n",
      " [  5.3048 ]\n",
      " [  0.56077]\n",
      " [  3.6518 ]\n",
      " [  5.3893 ]\n",
      " [  3.1386 ]\n",
      " [ 21.767  ]\n",
      " [  4.263  ]\n",
      " [  5.1875 ]\n",
      " [  3.0825 ]\n",
      " [ 22.638  ]\n",
      " [ 13.501  ]\n",
      " [  7.0467 ]\n",
      " [ 14.692  ]\n",
      " [ 24.147  ]\n",
      " [ -1.22   ]\n",
      " [  5.9966 ]\n",
      " [ 12.134  ]\n",
      " [  1.8495 ]\n",
      " [  6.5426 ]\n",
      " [  4.5623 ]\n",
      " [  4.1164 ]\n",
      " [  3.3928 ]\n",
      " [ 10.117  ]\n",
      " [  5.4974 ]\n",
      " [  0.55657]\n",
      " [  3.9115 ]\n",
      " [  5.3854 ]\n",
      " [  2.4406 ]\n",
      " [  6.7318 ]\n",
      " [  1.0463 ]\n",
      " [  5.1337 ]\n",
      " [  1.844  ]\n",
      " [  8.0043 ]\n",
      " [  1.0179 ]\n",
      " [  6.7504 ]\n",
      " [  1.8396 ]\n",
      " [  4.2885 ]\n",
      " [  4.9981 ]\n",
      " [  1.4233 ]\n",
      " [ -1.4211 ]\n",
      " [  2.4756 ]\n",
      " [  4.6042 ]\n",
      " [  3.9624 ]\n",
      " [  5.4141 ]\n",
      " [  5.1694 ]\n",
      " [ -0.74279]\n",
      " [ 17.929  ]\n",
      " [ 12.054  ]\n",
      " [ 17.054  ]\n",
      " [  4.8852 ]\n",
      " [  5.7442 ]\n",
      " [  7.7754 ]\n",
      " [  1.0173 ]\n",
      " [ 20.992  ]\n",
      " [  6.6799 ]\n",
      " [  4.0259 ]\n",
      " [  1.2784 ]\n",
      " [  3.3411 ]\n",
      " [ -2.6807 ]\n",
      " [  0.29678]\n",
      " [  3.8845 ]\n",
      " [  5.7014 ]\n",
      " [  6.7526 ]\n",
      " [  2.0576 ]\n",
      " [  0.47953]\n",
      " [  0.20421]\n",
      " [  0.67861]\n",
      " [  7.5435 ]\n",
      " [  5.3436 ]\n",
      " [  4.2415 ]\n",
      " [  6.7981 ]\n",
      " [  0.92695]\n",
      " [  0.152  ]\n",
      " [  2.8214 ]\n",
      " [  1.8451 ]\n",
      " [  4.2959 ]\n",
      " [  7.2029 ]\n",
      " [  1.9869 ]\n",
      " [  0.14454]\n",
      " [  9.0551 ]\n",
      " [  0.61705]]\n"
     ]
    }
   ],
   "source": [
    "#Set x_array(x_0 and x_1) and y_array for computation\n",
    "# Note array != matrix \n",
    "x_array = np.matrix(data_array_expanded[:, [0,1]])\n",
    "y_array = np.matrix(data_array_expanded[:, [2]])\n",
    "print(x_array, '\\n', y_array)"
   ]
  },
  {
   "cell_type": "code",
   "execution_count": 42,
   "metadata": {
    "collapsed": false
   },
   "outputs": [
    {
     "data": {
      "image/png": "[encoded data removed]",
      "text/plain": [
       "<matplotlib.figure.Figure at 0x10e070c18>"
      ]
     },
     "metadata": {},
     "output_type": "display_data"
    }
   ],
   "source": [
    "#plotting the data distribution\n",
    "import matplotlib.pyplot as plt\n",
    "for array in data_array:\n",
    "    plt.scatter(x = array[0], y = array[1], color = 'r', marker = 'x', alpha = 0.4)\n",
    "plt.xlabel('Population of City in 10,000s')\n",
    "plt.xlim(3, 25)\n",
    "plt.ylabel('Profit in $10,000s')\n",
    "plt.show()"
   ]
  },
  {
   "cell_type": "code",
   "execution_count": 80,
   "metadata": {
    "collapsed": false
   },
   "outputs": [],
   "source": [
    "#Build hypothesis function\n",
    "def hypothesis_fun(x, theta):\n",
    "    h_x = x * theta\n",
    "    #np.metrix * np.metrix => metrixes multiplication\n",
    "    return h_x"
   ]
  },
  {
   "cell_type": "code",
   "execution_count": 104,
   "metadata": {
    "collapsed": false
   },
   "outputs": [],
   "source": [
    "#Build gradient descent function!\n",
    "#Basic algorithm for linear regression\n",
    "from collections import defaultdict\n",
    "def gradient_descent(iterations, learning_rate):\n",
    "    theta_array = np.matrix(np.zeros((2,1)))\n",
    "    #already transpose!!! [[0.],\n",
    "    #                      [0.]]\n",
    "    #array != matrix\n",
    "    d = defaultdict(float)\n",
    "    m = len(x_array)\n",
    "    for i in range(0, iterations):\n",
    "        j_theta = (1/(2*m))*np.sum(np.square((hypothesis_fun(x_array, theta_array) - y_array)))\n",
    "        # **2 => np.square()\n",
    "        for j in range(0, len(theta_array)):\n",
    "            d['theta%s_update' %j] = theta_array[j][0] - learning_rate*(1/m) * np.transpose(\n",
    "                x_array[:,[j]]) * (hypothesis_fun(x_array, theta_array) - y_array)\n",
    "        #print(j_theta, d, theta_array)\n",
    "        for j in range(0, len(theta_array)):\n",
    "            theta_array[j][0] = d['theta%s_update' %j]\n",
    "    return theta_array, j_theta\n",
    "    \n",
    "    "
   ]
  },
  {
   "cell_type": "code",
   "execution_count": 114,
   "metadata": {
    "collapsed": false
   },
   "outputs": [
    {
     "data": {
      "text/plain": [
       "(array([[-3.63029144],\n",
       "        [ 1.16636235]]), 4.4834114533748686)"
      ]
     },
     "execution_count": 114,
     "metadata": {},
     "output_type": "execute_result"
    }
   ],
   "source": [
    "gradient_descent(1500, 0.01)"
   ]
  },
  {
   "cell_type": "code",
   "execution_count": 85,
   "metadata": {
    "collapsed": false
   },
   "outputs": [],
   "source": [
    "#print(hypothesis_fun(x_array, theta_array))"
   ]
  },
  {
   "cell_type": "code",
   "execution_count": 82,
   "metadata": {
    "collapsed": false
   },
   "outputs": [
    {
     "data": {
      "text/plain": [
       "matrix([[  5.],\n",
       "        [ 14.],\n",
       "        [ 23.]])"
      ]
     },
     "execution_count": 82,
     "metadata": {},
     "output_type": "execute_result"
    }
   ],
   "source": [
    "x1 = np.matrix(np.arange(9.0).reshape((3, 3)))\n",
    "x2 = np.matrix(np.arange(3.0).reshape((3, 1)))\n",
    "x1 * x2"
   ]
  },
  {
   "cell_type": "code",
   "execution_count": 100,
   "metadata": {
    "collapsed": false
   },
   "outputs": [
    {
     "data": {
      "text/plain": [
       "matrix([[-566.3961]])"
      ]
     },
     "execution_count": 100,
     "metadata": {},
     "output_type": "execute_result"
    }
   ],
   "source": [
    "#np.transpose(x_array[:,[0]]) * (hypothesis_fun(x_array, theta_array) - y_array)"
   ]
  }
 ],
 "metadata": {
  "anaconda-cloud": {},
  "kernelspec": {
   "display_name": "Python [conda root]",
   "language": "python",
   "name": "conda-root-py"
  },
  "language_info": {
   "codemirror_mode": {
    "name": "ipython",
    "version": 3
   },
   "file_extension": ".py",
   "mimetype": "text/x-python",
   "name": "python",
   "nbconvert_exporter": "python",
   "pygments_lexer": "ipython3",
   "version": "3.5.2"
  }
 },
 "nbformat": 4,
 "nbformat_minor": 1
}
